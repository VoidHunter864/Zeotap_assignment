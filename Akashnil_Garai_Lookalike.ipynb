{
 "cells": [
  {
   "cell_type": "markdown",
   "metadata": {},
   "source": [
    "# Task 2: Lookalike Model"
   ]
  },
  {
   "cell_type": "markdown",
   "metadata": {},
   "source": [
    "## Importing required libraries"
   ]
  },
  {
   "cell_type": "code",
   "execution_count": 1,
   "metadata": {},
   "outputs": [],
   "source": [
    "import pandas as pd\n",
    "from sklearn.metrics.pairwise import cosine_similarity\n",
    "import csv"
   ]
  },
  {
   "cell_type": "markdown",
   "metadata": {},
   "source": [
    "## Loading datasets"
   ]
  },
  {
   "cell_type": "code",
   "execution_count": 2,
   "metadata": {},
   "outputs": [],
   "source": [
    "customers_df = pd.read_csv(\"Customers.csv\")\n",
    "products_df = pd.read_csv(\"Products.csv\")\n",
    "transactions_df = pd.read_csv(\"Transactions.csv\")"
   ]
  },
  {
   "cell_type": "markdown",
   "metadata": {},
   "source": [
    "## Feature Engineering: Combining customer and transaction data to create a feature set."
   ]
  },
  {
   "cell_type": "code",
   "execution_count": 3,
   "metadata": {},
   "outputs": [],
   "source": [
    "transactions_products_df = pd.merge(transactions_df, products_df, on=\"ProductID\")\n",
    "customer_behavior_df = transactions_products_df.groupby(\"CustomerID\").agg({\n",
    "    \"TotalValue\": \"sum\",\n",
    "    \"Quantity\": \"sum\",\n",
    "    \"Category\": lambda x: x.mode()[0]  # Most purchased category\n",
    "}).reset_index()"
   ]
  },
  {
   "cell_type": "markdown",
   "metadata": {},
   "source": [
    "## Similarity Calculation: Using cosine similarity to compute similarity scores between customers"
   ]
  },
  {
   "cell_type": "code",
   "execution_count": 4,
   "metadata": {},
   "outputs": [],
   "source": [
    "# Encode category as numeric for similarity calculation\n",
    "customer_behavior_df[\"Category_Encoded\"] = customer_behavior_df[\"Category\"].astype('category').cat.codes\n",
    "\n",
    "# Merge with customer profiles\n",
    "customer_profile_df = pd.merge(customers_df, customer_behavior_df, on=\"CustomerID\")\n",
    "\n",
    "# Prepare features for similarity calculation\n",
    "features = customer_profile_df[[\"TotalValue\", \"Quantity\", \"Category_Encoded\"]].values\n",
    "\n",
    "# Compute cosine similarity\n",
    "similarity_matrix = cosine_similarity(features)"
   ]
  },
  {
   "cell_type": "markdown",
   "metadata": {},
   "source": [
    "## Generate Recommendations: For each customer, finding the top three most similar customers and saving them with their scores"
   ]
  },
  {
   "cell_type": "code",
   "execution_count": 5,
   "metadata": {},
   "outputs": [],
   "source": [
    "lookalike_results = {}\n",
    "for idx, customer_id in enumerate(customer_profile_df[\"CustomerID\"]):\n",
    "    similarity_scores = list(enumerate(similarity_matrix[idx]))\n",
    "    similarity_scores = sorted(similarity_scores, key=lambda x: x[1], reverse=True)  # Sort by similarity\n",
    "    top_similar = [(customer_profile_df.iloc[i][\"CustomerID\"], score) for i, score in similarity_scores[1:4]]  # Skip self-match\n",
    "    lookalike_results[customer_id] = top_similar"
   ]
  },
  {
   "cell_type": "markdown",
   "metadata": {},
   "source": [
    "## Saving results to a CSV file"
   ]
  },
  {
   "cell_type": "code",
   "execution_count": 7,
   "metadata": {},
   "outputs": [
    {
     "name": "stdout",
     "output_type": "stream",
     "text": [
      "Lookalike results saved to 'Akashnil_Garai_Lookalike.csv'.\n"
     ]
    }
   ],
   "source": [
    "import csv\n",
    "with open(\"Akashnil_Garai_Lookalike.csv\", \"w\", newline=\"\") as file:\n",
    "    writer = csv.writer(file)\n",
    "    writer.writerow([\"CustomerID\", \"Lookalike1\", \"Score1\", \"Lookalike2\", \"Score2\", \"Lookalike3\", \"Score3\"])\n",
    "    for customer_id, lookalikes in lookalike_results.items():\n",
    "        row = [customer_id] + [item for sublist in lookalikes for item in sublist]\n",
    "        writer.writerow(row)\n",
    "\n",
    "print(\"Lookalike results saved to 'Akashnil_Garai_Lookalike.csv'.\")"
   ]
  }
 ],
 "metadata": {
  "kernelspec": {
   "display_name": "Python 3",
   "language": "python",
   "name": "python3"
  },
  "language_info": {
   "codemirror_mode": {
    "name": "ipython",
    "version": 3
   },
   "file_extension": ".py",
   "mimetype": "text/x-python",
   "name": "python",
   "nbconvert_exporter": "python",
   "pygments_lexer": "ipython3",
   "version": "3.11.2"
  }
 },
 "nbformat": 4,
 "nbformat_minor": 2
}
